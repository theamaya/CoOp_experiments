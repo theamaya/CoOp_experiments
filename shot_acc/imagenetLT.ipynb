{
 "cells": [
  {
   "cell_type": "code",
   "execution_count": 1,
   "metadata": {},
   "outputs": [
    {
     "name": "stdout",
     "output_type": "stream",
     "text": [
      "root  /nfs/users/ext_amaya.dharmasiri/repos/VL-LTR/data/imagenet\n",
      "list_file  /nfs/users/ext_amaya.dharmasiri/repos/VL-LTR/data/imagenet/ImageNet_LT_train.txt\n",
      "391 462 89 52 5\n"
     ]
    }
   ],
   "source": [
    "def load_dataset(root, list_file, select=False):\n",
    "    if isinstance(list_file, str):\n",
    "        with open(list_file, 'r') as f:\n",
    "            lines = f.readlines()\n",
    "        has_labels = len(lines[0].split()) == 2\n",
    "        if has_labels:\n",
    "            fns, labels = zip(*[l.strip().split() for l in lines])\n",
    "            labels = [int(l) for l in labels]\n",
    "        else:\n",
    "            fns = [l.strip() for l in lines]\n",
    "    elif isinstance(list_file, tuple):\n",
    "        list_file= list_file[0]\n",
    "        with open(list_file, 'r') as f:\n",
    "            lines = f.readlines()\n",
    "        has_labels = len(lines[0].split()) == 2\n",
    "        if has_labels:\n",
    "            fns, labels = zip(*[l.strip().split() for l in lines])\n",
    "            labels = [int(l) for l in labels]\n",
    "        else:\n",
    "            fns = [l.strip() for l in lines]\n",
    "    elif isinstance(list_file, list):\n",
    "        has_labels = len(list_file[0]) == 2\n",
    "        if has_labels:\n",
    "            fns, labels = zip(*list_file)\n",
    "        else:\n",
    "            fns = list_file\n",
    "    \n",
    "    if select:\n",
    "        assert has_labels\n",
    "        n_fns = []\n",
    "        n_labels = []\n",
    "        cls_cnt_dict = {}\n",
    "        for fns, label in zip(fns, labels):\n",
    "            if label not in cls_cnt_dict:\n",
    "                cls_cnt_dict[label] = 0\n",
    "            cls_cnt_dict[label] += 1\n",
    "            if cls_cnt_dict[label] > 50: continue\n",
    "            n_fns.append(fns)\n",
    "            n_labels.append(label)\n",
    "    \n",
    "    # fns = [os.path.join(root, fn) for fn in fns]\n",
    "\n",
    "    return fns, labels\n",
    "\n",
    "split= 'train'\n",
    "root='/nfs/users/ext_amaya.dharmasiri/repos/VL-LTR/data/imagenet'\n",
    "list_file='/nfs/users/ext_amaya.dharmasiri/repos/VL-LTR/data/imagenet/ImageNet_LT_%s.txt' % split\n",
    "print('root ', root)\n",
    "print('list_file ', list_file)\n",
    "fns, labels= load_dataset(root, list_file, select=False)\n",
    "labels_count= max(labels)\n",
    "many=[]\n",
    "medium=[]\n",
    "few=[]\n",
    "shot10=[]\n",
    "shot5=[]\n",
    "for i in range(labels_count):\n",
    "    if labels.count(i)>=100:\n",
    "        many.append(i)\n",
    "    elif labels.count(i)>20:\n",
    "        medium.append(i)\n",
    "    elif labels.count(i)>10:\n",
    "        few.append(i)\n",
    "    elif labels.count(i)>5:\n",
    "        shot10.append(i)\n",
    "    else:\n",
    "        shot5.append(i)\n",
    "\n",
    "print(len(many), len(medium), len(few), len(shot10), len(shot5))"
   ]
  },
  {
   "cell_type": "code",
   "execution_count": 24,
   "metadata": {},
   "outputs": [
    {
     "name": "stdout",
     "output_type": "stream",
     "text": [
      "many 59.43734015345269\n",
      "medium 58.45887445887446\n",
      "few 58.58426966292135\n",
      "shot10 57.73076923076923\n",
      "shot5 52.4\n"
     ]
    }
   ],
   "source": [
    "path='/nfs/users/ext_amaya.dharmasiri/repos/CoOp/shot_acc/CoOp/rn50_16shots/nctx16_cscFalse_ctpend/seed1/prompt_learner/model200.txt'\n",
    "with open(path) as f:\n",
    "    content_list = [float(line.rstrip().split(' ')[-1][:-1]) for line in f]\n",
    "\n",
    "many_acc=[]\n",
    "medium_acc=[]\n",
    "few_acc=[]\n",
    "shot10_acc=[]\n",
    "shot5_acc=[]\n",
    "for i in many: many_acc.append(content_list[i])\n",
    "for i in medium: medium_acc.append(content_list[i])\n",
    "for i in few: few_acc.append(content_list[i])\n",
    "for i in shot10: shot10_acc.append(content_list[i])\n",
    "for i in shot5: shot5_acc.append(content_list[i])\n",
    "\n",
    "print('many', sum(many_acc)/len(many_acc))\n",
    "print('medium', sum(medium_acc)/len(medium_acc))\n",
    "print('few', sum(few_acc)/len(few_acc))\n",
    "print('shot10', sum(shot10_acc)/len(shot10_acc))\n",
    "print('shot5', sum(shot5_acc)/len(shot5_acc))"
   ]
  },
  {
   "cell_type": "code",
   "execution_count": 16,
   "metadata": {},
   "outputs": [
    {
     "name": "stdout",
     "output_type": "stream",
     "text": [
      "many 70.74680306905371\n",
      "medium 63.887445887445885\n",
      "few 58.831460674157306\n",
      "shot10 54.69230769230769\n",
      "shot5 38.8\n"
     ]
    }
   ],
   "source": [
    "path='/nfs/users/ext_amaya.dharmasiri/repos/CoOp/shot_acc/wikiprompt_cvlp_original_coop_prompt.txt'\n",
    "with open(path) as f:\n",
    "    content_list = [float(line.rstrip().split(' ')[-1][:-1]) for line in f]\n",
    "\n",
    "many_acc=[]\n",
    "medium_acc=[]\n",
    "few_acc=[]\n",
    "shot10_acc=[]\n",
    "shot5_acc=[]\n",
    "for i in many: many_acc.append(content_list[i])\n",
    "for i in medium: medium_acc.append(content_list[i])\n",
    "for i in few: few_acc.append(content_list[i])\n",
    "for i in shot10: shot10_acc.append(content_list[i])\n",
    "for i in shot5: shot5_acc.append(content_list[i])\n",
    "\n",
    "print('many', sum(many_acc)/len(many_acc))\n",
    "print('medium', sum(medium_acc)/len(medium_acc))\n",
    "print('few', sum(few_acc)/len(few_acc))\n",
    "print('shot10', sum(shot10_acc)/len(shot10_acc))\n",
    "print('shot5', sum(shot5_acc)/len(shot5_acc))"
   ]
  },
  {
   "cell_type": "code",
   "execution_count": 13,
   "metadata": {},
   "outputs": [
    {
     "name": "stdout",
     "output_type": "stream",
     "text": [
      "many 72.20971867007673\n",
      "medium 67.42424242424242\n",
      "few 61.86516853932584\n",
      "shot10 51.84615384615385\n",
      "shot5 31.6\n",
      "Overall  67.764\n"
     ]
    }
   ],
   "source": [
    "path='/nfs/users/ext_amaya.dharmasiri/repos/CoOp/shot_acc/wikiprompt_cvlp_imagentlt_coop_prompt2.txt'\n",
    "with open(path) as f:\n",
    "    content_list = [float(line.rstrip().split(' ')[-1][:-1]) for line in f]\n",
    "\n",
    "many_acc=[]\n",
    "medium_acc=[]\n",
    "few_acc=[]\n",
    "shot10_acc=[]\n",
    "shot5_acc=[]\n",
    "for i in many: many_acc.append(content_list[i])\n",
    "for i in medium: medium_acc.append(content_list[i])\n",
    "for i in few: few_acc.append(content_list[i])\n",
    "for i in shot10: shot10_acc.append(content_list[i])\n",
    "for i in shot5: shot5_acc.append(content_list[i])\n",
    "\n",
    "print('many', sum(many_acc)/len(many_acc))\n",
    "print('medium', sum(medium_acc)/len(medium_acc))\n",
    "print('few', sum(few_acc)/len(few_acc))\n",
    "print('shot10', sum(shot10_acc)/len(shot10_acc))\n",
    "print('shot5', sum(shot5_acc)/len(shot5_acc))\n",
    "print('Overall ',sum(content_list)/len(content_list) )"
   ]
  },
  {
   "cell_type": "code",
   "execution_count": 15,
   "metadata": {},
   "outputs": [
    {
     "name": "stdout",
     "output_type": "stream",
     "text": [
      "many 73.09974424552429\n",
      "medium 67.1038961038961\n",
      "few 60.561797752808985\n",
      "shot10 50.03846153846154\n",
      "shot5 29.2\n",
      "Overall  67.744\n"
     ]
    }
   ],
   "source": [
    "path='/nfs/users/ext_amaya.dharmasiri/repos/CoOp/shot_acc/80prompt_cvlp_imagenetlt_coop_prompt2.txt'\n",
    "with open(path) as f:\n",
    "    content_list = [float(line.rstrip().split(' ')[-1][:-1]) for line in f]\n",
    "\n",
    "many_acc=[]\n",
    "medium_acc=[]\n",
    "few_acc=[]\n",
    "shot10_acc=[]\n",
    "shot5_acc=[]\n",
    "for i in many: many_acc.append(content_list[i])\n",
    "for i in medium: medium_acc.append(content_list[i])\n",
    "for i in few: few_acc.append(content_list[i])\n",
    "for i in shot10: shot10_acc.append(content_list[i])\n",
    "for i in shot5: shot5_acc.append(content_list[i])\n",
    "\n",
    "print('many', sum(many_acc)/len(many_acc))\n",
    "print('medium', sum(medium_acc)/len(medium_acc))\n",
    "print('few', sum(few_acc)/len(few_acc))\n",
    "print('shot10', sum(shot10_acc)/len(shot10_acc))\n",
    "print('shot5', sum(shot5_acc)/len(shot5_acc))\n",
    "print('Overall ',sum(content_list)/len(content_list) )"
   ]
  },
  {
   "cell_type": "code",
   "execution_count": 16,
   "metadata": {},
   "outputs": [
    {
     "name": "stdout",
     "output_type": "stream",
     "text": [
      "many 72.41432225063939\n",
      "medium 66.4978354978355\n",
      "few 60.449438202247194\n",
      "shot10 48.96153846153846\n",
      "shot5 32.8\n",
      "Overall  67.146\n"
     ]
    }
   ],
   "source": [
    "path='/nfs/users/ext_amaya.dharmasiri/repos/CoOp/shot_acc/singleprompt_cvlp_imagenetlt_coop_prompt2.txt'\n",
    "with open(path) as f:\n",
    "    content_list = [float(line.rstrip().split(' ')[-1][:-1]) for line in f]\n",
    "\n",
    "many_acc=[]\n",
    "medium_acc=[]\n",
    "few_acc=[]\n",
    "shot10_acc=[]\n",
    "shot5_acc=[]\n",
    "for i in many: many_acc.append(content_list[i])\n",
    "for i in medium: medium_acc.append(content_list[i])\n",
    "for i in few: few_acc.append(content_list[i])\n",
    "for i in shot10: shot10_acc.append(content_list[i])\n",
    "for i in shot5: shot5_acc.append(content_list[i])\n",
    "\n",
    "print('many', sum(many_acc)/len(many_acc))\n",
    "print('medium', sum(medium_acc)/len(medium_acc))\n",
    "print('few', sum(few_acc)/len(few_acc))\n",
    "print('shot10', sum(shot10_acc)/len(shot10_acc))\n",
    "print('shot5', sum(shot5_acc)/len(shot5_acc))\n",
    "print('Overall ',sum(content_list)/len(content_list) )"
   ]
  },
  {
   "cell_type": "code",
   "execution_count": 2,
   "metadata": {},
   "outputs": [
    {
     "name": "stdout",
     "output_type": "stream",
     "text": [
      "many 64.32225063938618\n",
      "medium 62.4025974025974\n",
      "few 62.62921348314607\n",
      "shot10 59.96153846153846\n",
      "shot5 54.8\n"
     ]
    }
   ],
   "source": [
    "path='/nfs/users/ext_amaya.dharmasiri/repos/CoOp/shot_acc/no_cvlp_imagenet_coop_prompt.txt'\n",
    "with open(path) as f:\n",
    "    content_list = [float(line.rstrip().split(' ')[-1][:-1]) for line in f]\n",
    "\n",
    "many_acc=[]\n",
    "medium_acc=[]\n",
    "few_acc=[]\n",
    "shot10_acc=[]\n",
    "shot5_acc=[]\n",
    "for i in many: many_acc.append(content_list[i])\n",
    "for i in medium: medium_acc.append(content_list[i])\n",
    "for i in few: few_acc.append(content_list[i])\n",
    "for i in shot10: shot10_acc.append(content_list[i])\n",
    "for i in shot5: shot5_acc.append(content_list[i])\n",
    "\n",
    "print('many', sum(many_acc)/len(many_acc))\n",
    "print('medium', sum(medium_acc)/len(medium_acc))\n",
    "print('few', sum(few_acc)/len(few_acc))\n",
    "print('shot10', sum(shot10_acc)/len(shot10_acc))\n",
    "print('shot5', sum(shot5_acc)/len(shot5_acc))"
   ]
  },
  {
   "cell_type": "code",
   "execution_count": 3,
   "metadata": {},
   "outputs": [
    {
     "name": "stdout",
     "output_type": "stream",
     "text": [
      "many 72.89002557544757\n",
      "medium 68.82251082251082\n",
      "few 65.48314606741573\n",
      "shot10 57.0\n",
      "shot5 46.8\n"
     ]
    }
   ],
   "source": [
    "path='/nfs/users/ext_amaya.dharmasiri/repos/CoOp/shot_acc/wikiprompt_cvlp_imagenet_coop_prompt.txt'\n",
    "with open(path) as f:\n",
    "    content_list = [float(line.rstrip().split(' ')[-1][:-1]) for line in f]\n",
    "\n",
    "many_acc=[]\n",
    "medium_acc=[]\n",
    "few_acc=[]\n",
    "shot10_acc=[]\n",
    "shot5_acc=[]\n",
    "for i in many: many_acc.append(content_list[i])\n",
    "for i in medium: medium_acc.append(content_list[i])\n",
    "for i in few: few_acc.append(content_list[i])\n",
    "for i in shot10: shot10_acc.append(content_list[i])\n",
    "for i in shot5: shot5_acc.append(content_list[i])\n",
    "\n",
    "print('many', sum(many_acc)/len(many_acc))\n",
    "print('medium', sum(medium_acc)/len(medium_acc))\n",
    "print('few', sum(few_acc)/len(few_acc))\n",
    "print('shot10', sum(shot10_acc)/len(shot10_acc))\n",
    "print('shot5', sum(shot5_acc)/len(shot5_acc))"
   ]
  },
  {
   "cell_type": "code",
   "execution_count": 4,
   "metadata": {},
   "outputs": [
    {
     "name": "stdout",
     "output_type": "stream",
     "text": [
      "many 59.1764705882353\n",
      "medium 57.61038961038961\n",
      "few 59.21348314606742\n",
      "shot10 56.34615384615385\n",
      "shot5 41.6\n"
     ]
    }
   ],
   "source": [
    "\n",
    "path='/nfs/users/ext_amaya.dharmasiri/repos/CoOp/shot_acc/no_cvlp_imagenet_zeroshot_prompt.txt'\n",
    "with open(path) as f:\n",
    "    content_list = [float(line.rstrip().split(' ')[-1][:-1]) for line in f]\n",
    "\n",
    "many_acc=[]\n",
    "medium_acc=[]\n",
    "few_acc=[]\n",
    "shot10_acc=[]\n",
    "shot5_acc=[]\n",
    "for i in many: many_acc.append(content_list[i])\n",
    "for i in medium: medium_acc.append(content_list[i])\n",
    "for i in few: few_acc.append(content_list[i])\n",
    "for i in shot10: shot10_acc.append(content_list[i])\n",
    "for i in shot5: shot5_acc.append(content_list[i])\n",
    "\n",
    "print('many', sum(many_acc)/len(many_acc))\n",
    "print('medium', sum(medium_acc)/len(medium_acc))\n",
    "print('few', sum(few_acc)/len(few_acc))\n",
    "print('shot10', sum(shot10_acc)/len(shot10_acc))\n",
    "print('shot5', sum(shot5_acc)/len(shot5_acc))"
   ]
  },
  {
   "cell_type": "code",
   "execution_count": 5,
   "metadata": {},
   "outputs": [
    {
     "name": "stdout",
     "output_type": "stream",
     "text": [
      "many 59.1764705882353\n",
      "medium 57.61038961038961\n",
      "few 59.21348314606742\n",
      "shot10 56.34615384615385\n",
      "shot5 41.6\n"
     ]
    }
   ],
   "source": [
    "path='/nfs/users/ext_amaya.dharmasiri/repos/CoOp/shot_acc/no_cvlp_imagenetlt_zeroshot_prompt.txt'\n",
    "with open(path) as f:\n",
    "    content_list = [float(line.rstrip().split(' ')[-1][:-1]) for line in f]\n",
    "\n",
    "many_acc=[]\n",
    "medium_acc=[]\n",
    "few_acc=[]\n",
    "shot10_acc=[]\n",
    "shot5_acc=[]\n",
    "for i in many: many_acc.append(content_list[i])\n",
    "for i in medium: medium_acc.append(content_list[i])\n",
    "for i in few: few_acc.append(content_list[i])\n",
    "for i in shot10: shot10_acc.append(content_list[i])\n",
    "for i in shot5: shot5_acc.append(content_list[i])\n",
    "\n",
    "print('many', sum(many_acc)/len(many_acc))\n",
    "print('medium', sum(medium_acc)/len(medium_acc))\n",
    "print('few', sum(few_acc)/len(few_acc))\n",
    "print('shot10', sum(shot10_acc)/len(shot10_acc))\n",
    "print('shot5', sum(shot5_acc)/len(shot5_acc))"
   ]
  },
  {
   "cell_type": "code",
   "execution_count": 11,
   "metadata": {},
   "outputs": [
    {
     "name": "stdout",
     "output_type": "stream",
     "text": [
      "many 72.70076726342711\n",
      "medium 68.2943722943723\n",
      "few 64.40449438202248\n",
      "shot10 57.46153846153846\n",
      "shot5 43.6\n",
      "Overall  68.934\n"
     ]
    }
   ],
   "source": [
    "path='/nfs/users/ext_amaya.dharmasiri/repos/CoOp/shot_acc/wikiprompt_cvlp_imagenetlt_zeroshot_prompt.txt'\n",
    "with open(path) as f:\n",
    "    content_list = [float(line.rstrip().split(' ')[-1][:-1]) for line in f]\n",
    "\n",
    "many_acc=[]\n",
    "medium_acc=[]\n",
    "few_acc=[]\n",
    "shot10_acc=[]\n",
    "shot5_acc=[]\n",
    "for i in many: many_acc.append(content_list[i])\n",
    "for i in medium: medium_acc.append(content_list[i])\n",
    "for i in few: few_acc.append(content_list[i])\n",
    "for i in shot10: shot10_acc.append(content_list[i])\n",
    "for i in shot5: shot5_acc.append(content_list[i])\n",
    "\n",
    "print('many', sum(many_acc)/len(many_acc))\n",
    "print('medium', sum(medium_acc)/len(medium_acc))\n",
    "print('few', sum(few_acc)/len(few_acc))\n",
    "print('shot10', sum(shot10_acc)/len(shot10_acc))\n",
    "print('shot5', sum(shot5_acc)/len(shot5_acc))\n",
    "print('Overall ',sum(content_list)/len(content_list) )"
   ]
  },
  {
   "cell_type": "code",
   "execution_count": 10,
   "metadata": {},
   "outputs": [
    {
     "name": "stdout",
     "output_type": "stream",
     "text": [
      "many 72.78260869565217\n",
      "medium 67.97402597402598\n",
      "few 63.52808988764045\n",
      "shot10 54.5\n",
      "shot5 40.4\n",
      "Overall  68.57\n"
     ]
    }
   ],
   "source": [
    "path='/nfs/users/ext_amaya.dharmasiri/repos/CoOp/shot_acc/80prompt_cvlp_imagenetlt_zeroshot_prompt.txt'\n",
    "with open(path) as f:\n",
    "    content_list = [float(line.rstrip().split(' ')[-1][:-1]) for line in f]\n",
    "\n",
    "many_acc=[]\n",
    "medium_acc=[]\n",
    "few_acc=[]\n",
    "shot10_acc=[]\n",
    "shot5_acc=[]\n",
    "for i in many: many_acc.append(content_list[i])\n",
    "for i in medium: medium_acc.append(content_list[i])\n",
    "for i in few: few_acc.append(content_list[i])\n",
    "for i in shot10: shot10_acc.append(content_list[i])\n",
    "for i in shot5: shot5_acc.append(content_list[i])\n",
    "\n",
    "print('many', sum(many_acc)/len(many_acc))\n",
    "print('medium', sum(medium_acc)/len(medium_acc))\n",
    "print('few', sum(few_acc)/len(few_acc))\n",
    "print('shot10', sum(shot10_acc)/len(shot10_acc))\n",
    "print('shot5', sum(shot5_acc)/len(shot5_acc))\n",
    "print('Overall ',sum(content_list)/len(content_list) )"
   ]
  },
  {
   "cell_type": "code",
   "execution_count": 9,
   "metadata": {},
   "outputs": [
    {
     "name": "stdout",
     "output_type": "stream",
     "text": [
      "many 72.77237851662404\n",
      "medium 67.48051948051948\n",
      "few 63.258426966292134\n",
      "shot10 55.19230769230769\n",
      "shot5 42.0\n",
      "Overall  68.36\n"
     ]
    }
   ],
   "source": [
    "path='/nfs/users/ext_amaya.dharmasiri/repos/CoOp/shot_acc/singleprompt_cvlp_zeroshot_prompt.txt'\n",
    "with open(path) as f:\n",
    "    content_list = [float(line.rstrip().split(' ')[-1][:-1]) for line in f]\n",
    "\n",
    "many_acc=[]\n",
    "medium_acc=[]\n",
    "few_acc=[]\n",
    "shot10_acc=[]\n",
    "shot5_acc=[]\n",
    "for i in many: many_acc.append(content_list[i])\n",
    "for i in medium: medium_acc.append(content_list[i])\n",
    "for i in few: few_acc.append(content_list[i])\n",
    "for i in shot10: shot10_acc.append(content_list[i])\n",
    "for i in shot5: shot5_acc.append(content_list[i])\n",
    "\n",
    "print('many', sum(many_acc)/len(many_acc))\n",
    "print('medium', sum(medium_acc)/len(medium_acc))\n",
    "print('few', sum(few_acc)/len(few_acc))\n",
    "print('shot10', sum(shot10_acc)/len(shot10_acc))\n",
    "print('shot5', sum(shot5_acc)/len(shot5_acc))\n",
    "print('Overall ',sum(content_list)/len(content_list) )"
   ]
  },
  {
   "cell_type": "code",
   "execution_count": 17,
   "metadata": {},
   "outputs": [
    {
     "name": "stdout",
     "output_type": "stream",
     "text": [
      "many 61.76470588235294\n",
      "medium 60.93939393939394\n",
      "few 59.30337078651685\n",
      "shot10 55.65384615384615\n",
      "shot5 43.2\n",
      "Overall  60.728\n"
     ]
    }
   ],
   "source": [
    "path='/nfs/users/ext_amaya.dharmasiri/repos/CoOp/shot_acc/no_cvlp_imagenetlt_coop_prompt.txt'\n",
    "with open(path) as f:\n",
    "    content_list = [float(line.rstrip().split(' ')[-1][:-1]) for line in f]\n",
    "\n",
    "many_acc=[]\n",
    "medium_acc=[]\n",
    "few_acc=[]\n",
    "shot10_acc=[]\n",
    "shot5_acc=[]\n",
    "for i in many: many_acc.append(content_list[i])\n",
    "for i in medium: medium_acc.append(content_list[i])\n",
    "for i in few: few_acc.append(content_list[i])\n",
    "for i in shot10: shot10_acc.append(content_list[i])\n",
    "for i in shot5: shot5_acc.append(content_list[i])\n",
    "\n",
    "print('many', sum(many_acc)/len(many_acc))\n",
    "print('medium', sum(medium_acc)/len(medium_acc))\n",
    "print('few', sum(few_acc)/len(few_acc))\n",
    "print('shot10', sum(shot10_acc)/len(shot10_acc))\n",
    "print('shot5', sum(shot5_acc)/len(shot5_acc))\n",
    "print('Overall ',sum(content_list)/len(content_list) )"
   ]
  },
  {
   "cell_type": "code",
   "execution_count": 18,
   "metadata": {},
   "outputs": [
    {
     "name": "stdout",
     "output_type": "stream",
     "text": [
      "many 72.38363171355499\n",
      "medium 67.68831168831169\n",
      "few 62.337078651685395\n",
      "shot10 56.53846153846154\n",
      "shot5 50.8\n",
      "Overall  68.342\n"
     ]
    }
   ],
   "source": [
    "path='/nfs/users/ext_amaya.dharmasiri/repos/CoOp/shot_acc/wikiprompt_cvlp_original_imagentlt_coop_prompt.txt'\n",
    "with open(path) as f:\n",
    "    content_list = [float(line.rstrip().split(' ')[-1][:-1]) for line in f]\n",
    "\n",
    "many_acc=[]\n",
    "medium_acc=[]\n",
    "few_acc=[]\n",
    "shot10_acc=[]\n",
    "shot5_acc=[]\n",
    "for i in many: many_acc.append(content_list[i])\n",
    "for i in medium: medium_acc.append(content_list[i])\n",
    "for i in few: few_acc.append(content_list[i])\n",
    "for i in shot10: shot10_acc.append(content_list[i])\n",
    "for i in shot5: shot5_acc.append(content_list[i])\n",
    "\n",
    "print('many', sum(many_acc)/len(many_acc))\n",
    "print('medium', sum(medium_acc)/len(medium_acc))\n",
    "print('few', sum(few_acc)/len(few_acc))\n",
    "print('shot10', sum(shot10_acc)/len(shot10_acc))\n",
    "print('shot5', sum(shot5_acc)/len(shot5_acc))\n",
    "print('Overall ',sum(content_list)/len(content_list) )"
   ]
  },
  {
   "cell_type": "code",
   "execution_count": 19,
   "metadata": {},
   "outputs": [
    {
     "name": "stdout",
     "output_type": "stream",
     "text": [
      "many 72.81841432225065\n",
      "medium 68.25108225108225\n",
      "few 64.0\n",
      "shot10 54.84615384615385\n",
      "shot5 44.0\n",
      "Overall  68.796\n"
     ]
    }
   ],
   "source": [
    "path='/nfs/users/ext_amaya.dharmasiri/repos/CoOp/shot_acc/80prompt_cvlp_original_imagenetlt_coop_prompt.txt'\n",
    "with open(path) as f:\n",
    "    content_list = [float(line.rstrip().split(' ')[-1][:-1]) for line in f]\n",
    "\n",
    "many_acc=[]\n",
    "medium_acc=[]\n",
    "few_acc=[]\n",
    "shot10_acc=[]\n",
    "shot5_acc=[]\n",
    "for i in many: many_acc.append(content_list[i])\n",
    "for i in medium: medium_acc.append(content_list[i])\n",
    "for i in few: few_acc.append(content_list[i])\n",
    "for i in shot10: shot10_acc.append(content_list[i])\n",
    "for i in shot5: shot5_acc.append(content_list[i])\n",
    "\n",
    "print('many', sum(many_acc)/len(many_acc))\n",
    "print('medium', sum(medium_acc)/len(medium_acc))\n",
    "print('few', sum(few_acc)/len(few_acc))\n",
    "print('shot10', sum(shot10_acc)/len(shot10_acc))\n",
    "print('shot5', sum(shot5_acc)/len(shot5_acc))\n",
    "print('Overall ',sum(content_list)/len(content_list) )"
   ]
  },
  {
   "cell_type": "code",
   "execution_count": 20,
   "metadata": {},
   "outputs": [
    {
     "name": "stdout",
     "output_type": "stream",
     "text": [
      "many 71.71355498721228\n",
      "medium 67.53246753246754\n",
      "few 63.61797752808989\n",
      "shot10 56.23076923076923\n",
      "shot5 42.8\n",
      "Overall  68.06\n"
     ]
    }
   ],
   "source": [
    "path='/nfs/users/ext_amaya.dharmasiri/repos/CoOp/shot_acc/singleprompt_cvlp_original_imagenetlt_coop_prompt.txt'\n",
    "with open(path) as f:\n",
    "    content_list = [float(line.rstrip().split(' ')[-1][:-1]) for line in f]\n",
    "\n",
    "many_acc=[]\n",
    "medium_acc=[]\n",
    "few_acc=[]\n",
    "shot10_acc=[]\n",
    "shot5_acc=[]\n",
    "for i in many: many_acc.append(content_list[i])\n",
    "for i in medium: medium_acc.append(content_list[i])\n",
    "for i in few: few_acc.append(content_list[i])\n",
    "for i in shot10: shot10_acc.append(content_list[i])\n",
    "for i in shot5: shot5_acc.append(content_list[i])\n",
    "\n",
    "print('many', sum(many_acc)/len(many_acc))\n",
    "print('medium', sum(medium_acc)/len(medium_acc))\n",
    "print('few', sum(few_acc)/len(few_acc))\n",
    "print('shot10', sum(shot10_acc)/len(shot10_acc))\n",
    "print('shot5', sum(shot5_acc)/len(shot5_acc))\n",
    "print('Overall ',sum(content_list)/len(content_list) )"
   ]
  },
  {
   "cell_type": "code",
   "execution_count": null,
   "metadata": {},
   "outputs": [],
   "source": []
  }
 ],
 "metadata": {
  "kernelspec": {
   "display_name": "Python 3.10.4 ('VL-LTR')",
   "language": "python",
   "name": "python3"
  },
  "language_info": {
   "codemirror_mode": {
    "name": "ipython",
    "version": 3
   },
   "file_extension": ".py",
   "mimetype": "text/x-python",
   "name": "python",
   "nbconvert_exporter": "python",
   "pygments_lexer": "ipython3",
   "version": "3.10.4"
  },
  "orig_nbformat": 4,
  "vscode": {
   "interpreter": {
    "hash": "d124af7c40397173dd95dbe1f1cd442ff9684d95e86033bd78de65728b92f61d"
   }
  }
 },
 "nbformat": 4,
 "nbformat_minor": 2
}
